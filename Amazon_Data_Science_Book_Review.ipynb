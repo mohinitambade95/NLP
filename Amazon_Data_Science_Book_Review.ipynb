{
  "cells": [
    {
      "cell_type": "markdown",
      "metadata": {
        "id": "457b426e"
      },
      "source": [
        "## Amazon Data Science Book Reviews"
      ],
      "id": "457b426e"
    },
    {
      "cell_type": "markdown",
      "metadata": {
        "id": "de22cb41"
      },
      "source": [
        "### Exploratory Data Analysis"
      ],
      "id": "de22cb41"
    },
    {
      "cell_type": "code",
      "execution_count": 2,
      "metadata": {
        "id": "b6647f94"
      },
      "outputs": [],
      "source": [
        "#Import required libraries\n",
        "import numpy as np\n",
        "import pandas as pd\n",
        "import seaborn as sns\n",
        "import matplotlib.pyplot as plt\n",
        "import re\n",
        "import nltk\n",
        "from nltk.stem import PorterStemmer\n",
        "from nltk.stem import WordNetLemmatizer\n",
        "from nltk.corpus import stopwords\n",
        "\n",
        "from sklearn.model_selection import GridSearchCV\n",
        "from sklearn.metrics import confusion_matrix, f1_score\n",
        "from sklearn.metrics import accuracy_score\n",
        "from sklearn.metrics import roc_curve\n",
        "from sklearn.metrics import roc_auc_score\n",
        "#from sklearn.metrics import plot_roc_curve\n",
        "#import scikitplot as skplt\n",
        "\n",
        "\n",
        "from sklearn.naive_bayes import MultinomialNB\n",
        "from sklearn.ensemble import RandomForestClassifier\n",
        "from sklearn.tree import DecisionTreeClassifier\n",
        "from sklearn.ensemble import GradientBoostingClassifier\n",
        "from sklearn.linear_model import LogisticRegression\n",
        "from sklearn.naive_bayes import GaussianNB\n",
        "from sklearn.metrics import log_loss\n",
        "from sklearn.metrics import classification_report\n",
        "\n",
        "from imblearn.pipeline import Pipeline\n",
        "from imblearn.over_sampling import SMOTE\n",
        "from imblearn.under_sampling import RandomUnderSampler"
      ],
      "id": "b6647f94"
    },
    {
      "cell_type": "code",
      "source": [
        "from google.colab import drive\n",
        "drive.mount('/content/drive')"
      ],
      "metadata": {
        "colab": {
          "base_uri": "https://localhost:8080/"
        },
        "id": "16SsZ30HjN6I",
        "outputId": "70dace01-d728-40ff-8653-0157840cb642"
      },
      "id": "16SsZ30HjN6I",
      "execution_count": 1,
      "outputs": [
        {
          "output_type": "stream",
          "name": "stdout",
          "text": [
            "Mounted at /content/drive\n"
          ]
        }
      ]
    },
    {
      "cell_type": "code",
      "execution_count": 3,
      "metadata": {
        "colab": {
          "base_uri": "https://localhost:8080/"
        },
        "id": "659f4feb",
        "outputId": "7db6bfe5-f69a-47d1-d36f-a649b5fc771f"
      },
      "outputs": [
        {
          "output_type": "stream",
          "name": "stderr",
          "text": [
            "[nltk_data] Downloading package stopwords to /root/nltk_data...\n",
            "[nltk_data]   Unzipping corpora/stopwords.zip.\n"
          ]
        },
        {
          "output_type": "execute_result",
          "data": {
            "text/plain": [
              "True"
            ]
          },
          "metadata": {},
          "execution_count": 3
        }
      ],
      "source": [
        "nltk.download('stopwords')"
      ],
      "id": "659f4feb"
    },
    {
      "cell_type": "code",
      "execution_count": 4,
      "metadata": {
        "colab": {
          "base_uri": "https://localhost:8080/"
        },
        "id": "5dDOWQuYMRGf",
        "outputId": "e814ed0c-40c8-4931-ffe1-ebe14e541c2c"
      },
      "outputs": [
        {
          "output_type": "stream",
          "name": "stderr",
          "text": [
            "[nltk_data] Downloading package punkt to /root/nltk_data...\n",
            "[nltk_data]   Unzipping tokenizers/punkt.zip.\n"
          ]
        },
        {
          "output_type": "execute_result",
          "data": {
            "text/plain": [
              "True"
            ]
          },
          "metadata": {},
          "execution_count": 4
        }
      ],
      "source": [
        "nltk.download('punkt')"
      ],
      "id": "5dDOWQuYMRGf"
    },
    {
      "cell_type": "code",
      "execution_count": 5,
      "metadata": {
        "colab": {
          "base_uri": "https://localhost:8080/"
        },
        "id": "rIg6Gkr4MYSW",
        "outputId": "2a18f0b2-d01f-4d03-cdfc-9bf1afd1e233"
      },
      "outputs": [
        {
          "output_type": "stream",
          "name": "stderr",
          "text": [
            "[nltk_data] Downloading package wordnet to /root/nltk_data...\n"
          ]
        },
        {
          "output_type": "execute_result",
          "data": {
            "text/plain": [
              "True"
            ]
          },
          "metadata": {},
          "execution_count": 5
        }
      ],
      "source": [
        "nltk.download('wordnet')"
      ],
      "id": "rIg6Gkr4MYSW"
    },
    {
      "cell_type": "code",
      "execution_count": 7,
      "metadata": {
        "id": "c6230534"
      },
      "outputs": [],
      "source": [
        "# Read the dataset\n",
        "data = pd.read_csv(\"/content/drive/MyDrive/Amazon Books Reviews Dataset/reviews.csv\")"
      ],
      "id": "c6230534"
    },
    {
      "cell_type": "code",
      "execution_count": 8,
      "metadata": {
        "colab": {
          "base_uri": "https://localhost:8080/",
          "height": 206
        },
        "id": "cf40a088",
        "outputId": "a546be62-e172-4e04-de08-888d73ce00dc"
      },
      "outputs": [
        {
          "output_type": "execute_result",
          "data": {
            "text/plain": [
              "   stars                                            comment  \\\n",
              "0    5.0  Let me say at the outset of this review, that ...   \n",
              "1    1.0  Its Capitalism at its best. I read the book fr...   \n",
              "2    5.0  If you're looking to get started with data sci...   \n",
              "3    4.0  In general, this is a good book. It covers a w...   \n",
              "4    5.0  I was an academic data scientist decades befor...   \n",
              "\n",
              "                               book_url  \n",
              "0  https://www.amazon.com/dp/1492041130  \n",
              "1  https://www.amazon.com/dp/1492041130  \n",
              "2  https://www.amazon.com/dp/1492041130  \n",
              "3  https://www.amazon.com/dp/1492041130  \n",
              "4  https://www.amazon.com/dp/1492041130  "
            ],
            "text/html": [
              "\n",
              "  <div id=\"df-1675f476-5255-49af-8d4f-9ca149070a85\">\n",
              "    <div class=\"colab-df-container\">\n",
              "      <div>\n",
              "<style scoped>\n",
              "    .dataframe tbody tr th:only-of-type {\n",
              "        vertical-align: middle;\n",
              "    }\n",
              "\n",
              "    .dataframe tbody tr th {\n",
              "        vertical-align: top;\n",
              "    }\n",
              "\n",
              "    .dataframe thead th {\n",
              "        text-align: right;\n",
              "    }\n",
              "</style>\n",
              "<table border=\"1\" class=\"dataframe\">\n",
              "  <thead>\n",
              "    <tr style=\"text-align: right;\">\n",
              "      <th></th>\n",
              "      <th>stars</th>\n",
              "      <th>comment</th>\n",
              "      <th>book_url</th>\n",
              "    </tr>\n",
              "  </thead>\n",
              "  <tbody>\n",
              "    <tr>\n",
              "      <th>0</th>\n",
              "      <td>5.0</td>\n",
              "      <td>Let me say at the outset of this review, that ...</td>\n",
              "      <td>https://www.amazon.com/dp/1492041130</td>\n",
              "    </tr>\n",
              "    <tr>\n",
              "      <th>1</th>\n",
              "      <td>1.0</td>\n",
              "      <td>Its Capitalism at its best. I read the book fr...</td>\n",
              "      <td>https://www.amazon.com/dp/1492041130</td>\n",
              "    </tr>\n",
              "    <tr>\n",
              "      <th>2</th>\n",
              "      <td>5.0</td>\n",
              "      <td>If you're looking to get started with data sci...</td>\n",
              "      <td>https://www.amazon.com/dp/1492041130</td>\n",
              "    </tr>\n",
              "    <tr>\n",
              "      <th>3</th>\n",
              "      <td>4.0</td>\n",
              "      <td>In general, this is a good book. It covers a w...</td>\n",
              "      <td>https://www.amazon.com/dp/1492041130</td>\n",
              "    </tr>\n",
              "    <tr>\n",
              "      <th>4</th>\n",
              "      <td>5.0</td>\n",
              "      <td>I was an academic data scientist decades befor...</td>\n",
              "      <td>https://www.amazon.com/dp/1492041130</td>\n",
              "    </tr>\n",
              "  </tbody>\n",
              "</table>\n",
              "</div>\n",
              "      <button class=\"colab-df-convert\" onclick=\"convertToInteractive('df-1675f476-5255-49af-8d4f-9ca149070a85')\"\n",
              "              title=\"Convert this dataframe to an interactive table.\"\n",
              "              style=\"display:none;\">\n",
              "        \n",
              "  <svg xmlns=\"http://www.w3.org/2000/svg\" height=\"24px\"viewBox=\"0 0 24 24\"\n",
              "       width=\"24px\">\n",
              "    <path d=\"M0 0h24v24H0V0z\" fill=\"none\"/>\n",
              "    <path d=\"M18.56 5.44l.94 2.06.94-2.06 2.06-.94-2.06-.94-.94-2.06-.94 2.06-2.06.94zm-11 1L8.5 8.5l.94-2.06 2.06-.94-2.06-.94L8.5 2.5l-.94 2.06-2.06.94zm10 10l.94 2.06.94-2.06 2.06-.94-2.06-.94-.94-2.06-.94 2.06-2.06.94z\"/><path d=\"M17.41 7.96l-1.37-1.37c-.4-.4-.92-.59-1.43-.59-.52 0-1.04.2-1.43.59L10.3 9.45l-7.72 7.72c-.78.78-.78 2.05 0 2.83L4 21.41c.39.39.9.59 1.41.59.51 0 1.02-.2 1.41-.59l7.78-7.78 2.81-2.81c.8-.78.8-2.07 0-2.86zM5.41 20L4 18.59l7.72-7.72 1.47 1.35L5.41 20z\"/>\n",
              "  </svg>\n",
              "      </button>\n",
              "      \n",
              "  <style>\n",
              "    .colab-df-container {\n",
              "      display:flex;\n",
              "      flex-wrap:wrap;\n",
              "      gap: 12px;\n",
              "    }\n",
              "\n",
              "    .colab-df-convert {\n",
              "      background-color: #E8F0FE;\n",
              "      border: none;\n",
              "      border-radius: 50%;\n",
              "      cursor: pointer;\n",
              "      display: none;\n",
              "      fill: #1967D2;\n",
              "      height: 32px;\n",
              "      padding: 0 0 0 0;\n",
              "      width: 32px;\n",
              "    }\n",
              "\n",
              "    .colab-df-convert:hover {\n",
              "      background-color: #E2EBFA;\n",
              "      box-shadow: 0px 1px 2px rgba(60, 64, 67, 0.3), 0px 1px 3px 1px rgba(60, 64, 67, 0.15);\n",
              "      fill: #174EA6;\n",
              "    }\n",
              "\n",
              "    [theme=dark] .colab-df-convert {\n",
              "      background-color: #3B4455;\n",
              "      fill: #D2E3FC;\n",
              "    }\n",
              "\n",
              "    [theme=dark] .colab-df-convert:hover {\n",
              "      background-color: #434B5C;\n",
              "      box-shadow: 0px 1px 3px 1px rgba(0, 0, 0, 0.15);\n",
              "      filter: drop-shadow(0px 1px 2px rgba(0, 0, 0, 0.3));\n",
              "      fill: #FFFFFF;\n",
              "    }\n",
              "  </style>\n",
              "\n",
              "      <script>\n",
              "        const buttonEl =\n",
              "          document.querySelector('#df-1675f476-5255-49af-8d4f-9ca149070a85 button.colab-df-convert');\n",
              "        buttonEl.style.display =\n",
              "          google.colab.kernel.accessAllowed ? 'block' : 'none';\n",
              "\n",
              "        async function convertToInteractive(key) {\n",
              "          const element = document.querySelector('#df-1675f476-5255-49af-8d4f-9ca149070a85');\n",
              "          const dataTable =\n",
              "            await google.colab.kernel.invokeFunction('convertToInteractive',\n",
              "                                                     [key], {});\n",
              "          if (!dataTable) return;\n",
              "\n",
              "          const docLinkHtml = 'Like what you see? Visit the ' +\n",
              "            '<a target=\"_blank\" href=https://colab.research.google.com/notebooks/data_table.ipynb>data table notebook</a>'\n",
              "            + ' to learn more about interactive tables.';\n",
              "          element.innerHTML = '';\n",
              "          dataTable['output_type'] = 'display_data';\n",
              "          await google.colab.output.renderOutput(dataTable, element);\n",
              "          const docLink = document.createElement('div');\n",
              "          docLink.innerHTML = docLinkHtml;\n",
              "          element.appendChild(docLink);\n",
              "        }\n",
              "      </script>\n",
              "    </div>\n",
              "  </div>\n",
              "  "
            ]
          },
          "metadata": {},
          "execution_count": 8
        }
      ],
      "source": [
        "#Lets have a look at dataset\n",
        "data.head()"
      ],
      "id": "cf40a088"
    },
    {
      "cell_type": "code",
      "execution_count": 9,
      "metadata": {
        "colab": {
          "base_uri": "https://localhost:8080/"
        },
        "id": "a5ccba8e",
        "outputId": "b60e32b2-6a46-45a8-c0cb-7208298710bd"
      },
      "outputs": [
        {
          "output_type": "execute_result",
          "data": {
            "text/plain": [
              "(20647, 3)"
            ]
          },
          "metadata": {},
          "execution_count": 9
        }
      ],
      "source": [
        "data.shape"
      ],
      "id": "a5ccba8e"
    },
    {
      "cell_type": "code",
      "execution_count": 10,
      "metadata": {
        "id": "0a53caf1"
      },
      "outputs": [],
      "source": [
        "# Lets remove book_url column as we dont need it for analysis of reviews\n",
        "data.drop(['book_url'],axis=1, inplace=True)"
      ],
      "id": "0a53caf1"
    },
    {
      "cell_type": "code",
      "execution_count": 11,
      "metadata": {
        "colab": {
          "base_uri": "https://localhost:8080/",
          "height": 206
        },
        "id": "5f4dcccb",
        "outputId": "0aad83a1-b4a2-42b4-da41-5b210210a58a"
      },
      "outputs": [
        {
          "output_type": "execute_result",
          "data": {
            "text/plain": [
              "   stars                                            comment\n",
              "0    5.0  Let me say at the outset of this review, that ...\n",
              "1    1.0  Its Capitalism at its best. I read the book fr...\n",
              "2    5.0  If you're looking to get started with data sci...\n",
              "3    4.0  In general, this is a good book. It covers a w...\n",
              "4    5.0  I was an academic data scientist decades befor..."
            ],
            "text/html": [
              "\n",
              "  <div id=\"df-7932ce0f-eeb7-4b07-9c44-0a4a304c34e7\">\n",
              "    <div class=\"colab-df-container\">\n",
              "      <div>\n",
              "<style scoped>\n",
              "    .dataframe tbody tr th:only-of-type {\n",
              "        vertical-align: middle;\n",
              "    }\n",
              "\n",
              "    .dataframe tbody tr th {\n",
              "        vertical-align: top;\n",
              "    }\n",
              "\n",
              "    .dataframe thead th {\n",
              "        text-align: right;\n",
              "    }\n",
              "</style>\n",
              "<table border=\"1\" class=\"dataframe\">\n",
              "  <thead>\n",
              "    <tr style=\"text-align: right;\">\n",
              "      <th></th>\n",
              "      <th>stars</th>\n",
              "      <th>comment</th>\n",
              "    </tr>\n",
              "  </thead>\n",
              "  <tbody>\n",
              "    <tr>\n",
              "      <th>0</th>\n",
              "      <td>5.0</td>\n",
              "      <td>Let me say at the outset of this review, that ...</td>\n",
              "    </tr>\n",
              "    <tr>\n",
              "      <th>1</th>\n",
              "      <td>1.0</td>\n",
              "      <td>Its Capitalism at its best. I read the book fr...</td>\n",
              "    </tr>\n",
              "    <tr>\n",
              "      <th>2</th>\n",
              "      <td>5.0</td>\n",
              "      <td>If you're looking to get started with data sci...</td>\n",
              "    </tr>\n",
              "    <tr>\n",
              "      <th>3</th>\n",
              "      <td>4.0</td>\n",
              "      <td>In general, this is a good book. It covers a w...</td>\n",
              "    </tr>\n",
              "    <tr>\n",
              "      <th>4</th>\n",
              "      <td>5.0</td>\n",
              "      <td>I was an academic data scientist decades befor...</td>\n",
              "    </tr>\n",
              "  </tbody>\n",
              "</table>\n",
              "</div>\n",
              "      <button class=\"colab-df-convert\" onclick=\"convertToInteractive('df-7932ce0f-eeb7-4b07-9c44-0a4a304c34e7')\"\n",
              "              title=\"Convert this dataframe to an interactive table.\"\n",
              "              style=\"display:none;\">\n",
              "        \n",
              "  <svg xmlns=\"http://www.w3.org/2000/svg\" height=\"24px\"viewBox=\"0 0 24 24\"\n",
              "       width=\"24px\">\n",
              "    <path d=\"M0 0h24v24H0V0z\" fill=\"none\"/>\n",
              "    <path d=\"M18.56 5.44l.94 2.06.94-2.06 2.06-.94-2.06-.94-.94-2.06-.94 2.06-2.06.94zm-11 1L8.5 8.5l.94-2.06 2.06-.94-2.06-.94L8.5 2.5l-.94 2.06-2.06.94zm10 10l.94 2.06.94-2.06 2.06-.94-2.06-.94-.94-2.06-.94 2.06-2.06.94z\"/><path d=\"M17.41 7.96l-1.37-1.37c-.4-.4-.92-.59-1.43-.59-.52 0-1.04.2-1.43.59L10.3 9.45l-7.72 7.72c-.78.78-.78 2.05 0 2.83L4 21.41c.39.39.9.59 1.41.59.51 0 1.02-.2 1.41-.59l7.78-7.78 2.81-2.81c.8-.78.8-2.07 0-2.86zM5.41 20L4 18.59l7.72-7.72 1.47 1.35L5.41 20z\"/>\n",
              "  </svg>\n",
              "      </button>\n",
              "      \n",
              "  <style>\n",
              "    .colab-df-container {\n",
              "      display:flex;\n",
              "      flex-wrap:wrap;\n",
              "      gap: 12px;\n",
              "    }\n",
              "\n",
              "    .colab-df-convert {\n",
              "      background-color: #E8F0FE;\n",
              "      border: none;\n",
              "      border-radius: 50%;\n",
              "      cursor: pointer;\n",
              "      display: none;\n",
              "      fill: #1967D2;\n",
              "      height: 32px;\n",
              "      padding: 0 0 0 0;\n",
              "      width: 32px;\n",
              "    }\n",
              "\n",
              "    .colab-df-convert:hover {\n",
              "      background-color: #E2EBFA;\n",
              "      box-shadow: 0px 1px 2px rgba(60, 64, 67, 0.3), 0px 1px 3px 1px rgba(60, 64, 67, 0.15);\n",
              "      fill: #174EA6;\n",
              "    }\n",
              "\n",
              "    [theme=dark] .colab-df-convert {\n",
              "      background-color: #3B4455;\n",
              "      fill: #D2E3FC;\n",
              "    }\n",
              "\n",
              "    [theme=dark] .colab-df-convert:hover {\n",
              "      background-color: #434B5C;\n",
              "      box-shadow: 0px 1px 3px 1px rgba(0, 0, 0, 0.15);\n",
              "      filter: drop-shadow(0px 1px 2px rgba(0, 0, 0, 0.3));\n",
              "      fill: #FFFFFF;\n",
              "    }\n",
              "  </style>\n",
              "\n",
              "      <script>\n",
              "        const buttonEl =\n",
              "          document.querySelector('#df-7932ce0f-eeb7-4b07-9c44-0a4a304c34e7 button.colab-df-convert');\n",
              "        buttonEl.style.display =\n",
              "          google.colab.kernel.accessAllowed ? 'block' : 'none';\n",
              "\n",
              "        async function convertToInteractive(key) {\n",
              "          const element = document.querySelector('#df-7932ce0f-eeb7-4b07-9c44-0a4a304c34e7');\n",
              "          const dataTable =\n",
              "            await google.colab.kernel.invokeFunction('convertToInteractive',\n",
              "                                                     [key], {});\n",
              "          if (!dataTable) return;\n",
              "\n",
              "          const docLinkHtml = 'Like what you see? Visit the ' +\n",
              "            '<a target=\"_blank\" href=https://colab.research.google.com/notebooks/data_table.ipynb>data table notebook</a>'\n",
              "            + ' to learn more about interactive tables.';\n",
              "          element.innerHTML = '';\n",
              "          dataTable['output_type'] = 'display_data';\n",
              "          await google.colab.output.renderOutput(dataTable, element);\n",
              "          const docLink = document.createElement('div');\n",
              "          docLink.innerHTML = docLinkHtml;\n",
              "          element.appendChild(docLink);\n",
              "        }\n",
              "      </script>\n",
              "    </div>\n",
              "  </div>\n",
              "  "
            ]
          },
          "metadata": {},
          "execution_count": 11
        }
      ],
      "source": [
        "data.head()"
      ],
      "id": "5f4dcccb"
    },
    {
      "cell_type": "code",
      "execution_count": 12,
      "metadata": {
        "colab": {
          "base_uri": "https://localhost:8080/"
        },
        "id": "31eb6f2f",
        "outputId": "b58b14ca-a9ff-44dc-8809-c90878d6d2bc"
      },
      "outputs": [
        {
          "output_type": "execute_result",
          "data": {
            "text/plain": [
              "stars      0\n",
              "comment    0\n",
              "dtype: int64"
            ]
          },
          "metadata": {},
          "execution_count": 12
        }
      ],
      "source": [
        "# Check for null values\n",
        "data.isnull().sum()"
      ],
      "id": "31eb6f2f"
    },
    {
      "cell_type": "markdown",
      "metadata": {
        "id": "9f3aa8e5"
      },
      "source": [
        "###### Null values are not present in data"
      ],
      "id": "9f3aa8e5"
    },
    {
      "cell_type": "code",
      "execution_count": 13,
      "metadata": {
        "colab": {
          "base_uri": "https://localhost:8080/",
          "height": 423
        },
        "id": "9f9fdade",
        "outputId": "5974bdcb-b409-4e79-9b50-6d815c6ef544"
      },
      "outputs": [
        {
          "output_type": "execute_result",
          "data": {
            "text/plain": [
              "       stars                                            comment\n",
              "191      5.0                                               Good\n",
              "395      5.0                                               good\n",
              "594      5.0                                               good\n",
              "757      5.0  I bought this book for understanding the term ...\n",
              "786      5.0                                          very good\n",
              "...      ...                                                ...\n",
              "20544    5.0                                       Very helpful\n",
              "20545    5.0                                      Great product\n",
              "20551    5.0                                          Good read\n",
              "20632    5.0                                          very good\n",
              "20646    5.0                                              GREAT\n",
              "\n",
              "[1026 rows x 2 columns]"
            ],
            "text/html": [
              "\n",
              "  <div id=\"df-4d7e0748-96f4-418f-b0f2-aae5bef55437\">\n",
              "    <div class=\"colab-df-container\">\n",
              "      <div>\n",
              "<style scoped>\n",
              "    .dataframe tbody tr th:only-of-type {\n",
              "        vertical-align: middle;\n",
              "    }\n",
              "\n",
              "    .dataframe tbody tr th {\n",
              "        vertical-align: top;\n",
              "    }\n",
              "\n",
              "    .dataframe thead th {\n",
              "        text-align: right;\n",
              "    }\n",
              "</style>\n",
              "<table border=\"1\" class=\"dataframe\">\n",
              "  <thead>\n",
              "    <tr style=\"text-align: right;\">\n",
              "      <th></th>\n",
              "      <th>stars</th>\n",
              "      <th>comment</th>\n",
              "    </tr>\n",
              "  </thead>\n",
              "  <tbody>\n",
              "    <tr>\n",
              "      <th>191</th>\n",
              "      <td>5.0</td>\n",
              "      <td>Good</td>\n",
              "    </tr>\n",
              "    <tr>\n",
              "      <th>395</th>\n",
              "      <td>5.0</td>\n",
              "      <td>good</td>\n",
              "    </tr>\n",
              "    <tr>\n",
              "      <th>594</th>\n",
              "      <td>5.0</td>\n",
              "      <td>good</td>\n",
              "    </tr>\n",
              "    <tr>\n",
              "      <th>757</th>\n",
              "      <td>5.0</td>\n",
              "      <td>I bought this book for understanding the term ...</td>\n",
              "    </tr>\n",
              "    <tr>\n",
              "      <th>786</th>\n",
              "      <td>5.0</td>\n",
              "      <td>very good</td>\n",
              "    </tr>\n",
              "    <tr>\n",
              "      <th>...</th>\n",
              "      <td>...</td>\n",
              "      <td>...</td>\n",
              "    </tr>\n",
              "    <tr>\n",
              "      <th>20544</th>\n",
              "      <td>5.0</td>\n",
              "      <td>Very helpful</td>\n",
              "    </tr>\n",
              "    <tr>\n",
              "      <th>20545</th>\n",
              "      <td>5.0</td>\n",
              "      <td>Great product</td>\n",
              "    </tr>\n",
              "    <tr>\n",
              "      <th>20551</th>\n",
              "      <td>5.0</td>\n",
              "      <td>Good read</td>\n",
              "    </tr>\n",
              "    <tr>\n",
              "      <th>20632</th>\n",
              "      <td>5.0</td>\n",
              "      <td>very good</td>\n",
              "    </tr>\n",
              "    <tr>\n",
              "      <th>20646</th>\n",
              "      <td>5.0</td>\n",
              "      <td>GREAT</td>\n",
              "    </tr>\n",
              "  </tbody>\n",
              "</table>\n",
              "<p>1026 rows × 2 columns</p>\n",
              "</div>\n",
              "      <button class=\"colab-df-convert\" onclick=\"convertToInteractive('df-4d7e0748-96f4-418f-b0f2-aae5bef55437')\"\n",
              "              title=\"Convert this dataframe to an interactive table.\"\n",
              "              style=\"display:none;\">\n",
              "        \n",
              "  <svg xmlns=\"http://www.w3.org/2000/svg\" height=\"24px\"viewBox=\"0 0 24 24\"\n",
              "       width=\"24px\">\n",
              "    <path d=\"M0 0h24v24H0V0z\" fill=\"none\"/>\n",
              "    <path d=\"M18.56 5.44l.94 2.06.94-2.06 2.06-.94-2.06-.94-.94-2.06-.94 2.06-2.06.94zm-11 1L8.5 8.5l.94-2.06 2.06-.94-2.06-.94L8.5 2.5l-.94 2.06-2.06.94zm10 10l.94 2.06.94-2.06 2.06-.94-2.06-.94-.94-2.06-.94 2.06-2.06.94z\"/><path d=\"M17.41 7.96l-1.37-1.37c-.4-.4-.92-.59-1.43-.59-.52 0-1.04.2-1.43.59L10.3 9.45l-7.72 7.72c-.78.78-.78 2.05 0 2.83L4 21.41c.39.39.9.59 1.41.59.51 0 1.02-.2 1.41-.59l7.78-7.78 2.81-2.81c.8-.78.8-2.07 0-2.86zM5.41 20L4 18.59l7.72-7.72 1.47 1.35L5.41 20z\"/>\n",
              "  </svg>\n",
              "      </button>\n",
              "      \n",
              "  <style>\n",
              "    .colab-df-container {\n",
              "      display:flex;\n",
              "      flex-wrap:wrap;\n",
              "      gap: 12px;\n",
              "    }\n",
              "\n",
              "    .colab-df-convert {\n",
              "      background-color: #E8F0FE;\n",
              "      border: none;\n",
              "      border-radius: 50%;\n",
              "      cursor: pointer;\n",
              "      display: none;\n",
              "      fill: #1967D2;\n",
              "      height: 32px;\n",
              "      padding: 0 0 0 0;\n",
              "      width: 32px;\n",
              "    }\n",
              "\n",
              "    .colab-df-convert:hover {\n",
              "      background-color: #E2EBFA;\n",
              "      box-shadow: 0px 1px 2px rgba(60, 64, 67, 0.3), 0px 1px 3px 1px rgba(60, 64, 67, 0.15);\n",
              "      fill: #174EA6;\n",
              "    }\n",
              "\n",
              "    [theme=dark] .colab-df-convert {\n",
              "      background-color: #3B4455;\n",
              "      fill: #D2E3FC;\n",
              "    }\n",
              "\n",
              "    [theme=dark] .colab-df-convert:hover {\n",
              "      background-color: #434B5C;\n",
              "      box-shadow: 0px 1px 3px 1px rgba(0, 0, 0, 0.15);\n",
              "      filter: drop-shadow(0px 1px 2px rgba(0, 0, 0, 0.3));\n",
              "      fill: #FFFFFF;\n",
              "    }\n",
              "  </style>\n",
              "\n",
              "      <script>\n",
              "        const buttonEl =\n",
              "          document.querySelector('#df-4d7e0748-96f4-418f-b0f2-aae5bef55437 button.colab-df-convert');\n",
              "        buttonEl.style.display =\n",
              "          google.colab.kernel.accessAllowed ? 'block' : 'none';\n",
              "\n",
              "        async function convertToInteractive(key) {\n",
              "          const element = document.querySelector('#df-4d7e0748-96f4-418f-b0f2-aae5bef55437');\n",
              "          const dataTable =\n",
              "            await google.colab.kernel.invokeFunction('convertToInteractive',\n",
              "                                                     [key], {});\n",
              "          if (!dataTable) return;\n",
              "\n",
              "          const docLinkHtml = 'Like what you see? Visit the ' +\n",
              "            '<a target=\"_blank\" href=https://colab.research.google.com/notebooks/data_table.ipynb>data table notebook</a>'\n",
              "            + ' to learn more about interactive tables.';\n",
              "          element.innerHTML = '';\n",
              "          dataTable['output_type'] = 'display_data';\n",
              "          await google.colab.output.renderOutput(dataTable, element);\n",
              "          const docLink = document.createElement('div');\n",
              "          docLink.innerHTML = docLinkHtml;\n",
              "          element.appendChild(docLink);\n",
              "        }\n",
              "      </script>\n",
              "    </div>\n",
              "  </div>\n",
              "  "
            ]
          },
          "metadata": {},
          "execution_count": 13
        }
      ],
      "source": [
        "# Check for duplicates\n",
        "data[data.duplicated()]"
      ],
      "id": "9f9fdade"
    },
    {
      "cell_type": "markdown",
      "metadata": {
        "id": "dc2c37b2"
      },
      "source": [
        "###### There are 1026 duplicate reviews/comments"
      ],
      "id": "dc2c37b2"
    },
    {
      "cell_type": "code",
      "execution_count": 14,
      "metadata": {
        "id": "7b8fd63c"
      },
      "outputs": [],
      "source": [
        "# Lets remove duplicates\n",
        "# Drop duplicates and keep the first occurence of the review\n",
        "data.drop_duplicates(keep='first', inplace=True)"
      ],
      "id": "7b8fd63c"
    },
    {
      "cell_type": "code",
      "execution_count": 15,
      "metadata": {
        "colab": {
          "base_uri": "https://localhost:8080/"
        },
        "id": "30314b19",
        "outputId": "75271482-ee98-4a49-cbe3-e2a088afa02b"
      },
      "outputs": [
        {
          "output_type": "execute_result",
          "data": {
            "text/plain": [
              "(19621, 2)"
            ]
          },
          "metadata": {},
          "execution_count": 15
        }
      ],
      "source": [
        "data.shape"
      ],
      "id": "30314b19"
    },
    {
      "cell_type": "code",
      "execution_count": 16,
      "metadata": {
        "id": "OGF-si_Q9icp"
      },
      "outputs": [],
      "source": [
        "# Lets create a new feature sentiment based on stars\n",
        "sentiments = []\n",
        "for star in data['stars'].tolist():\n",
        "  if star > 3.0:\n",
        "    sentiments.append(1)\n",
        "  else:\n",
        "    sentiments.append(0)\n",
        "data['sentiment'] = sentiments"
      ],
      "id": "OGF-si_Q9icp"
    },
    {
      "cell_type": "code",
      "execution_count": 17,
      "metadata": {
        "colab": {
          "base_uri": "https://localhost:8080/",
          "height": 467
        },
        "id": "97469349",
        "outputId": "6f913516-1300-494c-8aa7-cb11f50c995a"
      },
      "outputs": [
        {
          "output_type": "execute_result",
          "data": {
            "text/plain": [
              "<Axes: xlabel='sentiment', ylabel='count'>"
            ]
          },
          "metadata": {},
          "execution_count": 17
        },
        {
          "output_type": "display_data",
          "data": {
            "text/plain": [
              "<Figure size 640x480 with 1 Axes>"
            ],
            "image/png": "[encoded data removed]"
          },
          "metadata": {}
        }
      ],
      "source": [
        "# Lets check number of values for each category of stars\n",
        "sns.countplot(x=data[\"sentiment\"])"
      ],
      "id": "97469349"
    },
    {
      "cell_type": "markdown",
      "metadata": {
        "id": "6c3520f2"
      },
      "source": [
        "### Text Pre-processing"
      ],
      "id": "6c3520f2"
    },
    {
      "cell_type": "code",
      "execution_count": 18,
      "metadata": {
        "id": "62934e1c"
      },
      "outputs": [],
      "source": [
        "# Lets do pre-processing on comments\n",
        "lemmatizer = WordNetLemmatizer()\n",
        "stemmer = PorterStemmer()\n",
        "def preprocess_comment(comment):\n",
        "    comment = re.sub('[^a-zA-Z]',' ', comment)\n",
        "    comment = comment.lower()\n",
        "    comment = [lemmatizer.lemmatize(word) for word in nltk.word_tokenize(comment) if word not in set(stopwords.words('english'))]\n",
        "    clean_comment = ' '.join(comment)\n",
        "    return clean_comment\n",
        "   "
      ],
      "id": "62934e1c"
    },
    {
      "cell_type": "code",
      "execution_count": 19,
      "metadata": {
        "colab": {
          "base_uri": "https://localhost:8080/",
          "height": 72
        },
        "id": "582sL4bLDqKJ",
        "outputId": "d5ab2203-7051-449f-e791-15de246c121b"
      },
      "outputs": [
        {
          "output_type": "execute_result",
          "data": {
            "text/plain": [
              "\"If you're looking to get started with data science but you're confused on which material to use...videos, books, a specific online class, etc...start with this book and see where it takes you. This book will give you a great place to start and afterwards, you will have enough knowledge to make an educated choice on what educational resource to use next.\""
            ],
            "application/vnd.google.colaboratory.intrinsic+json": {
              "type": "string"
            }
          },
          "metadata": {},
          "execution_count": 19
        }
      ],
      "source": [
        "# Comment before preprocessing\n",
        "data['comment'].iloc[2]"
      ],
      "id": "582sL4bLDqKJ"
    },
    {
      "cell_type": "code",
      "execution_count": 20,
      "metadata": {
        "colab": {
          "base_uri": "https://localhost:8080/",
          "height": 54
        },
        "id": "f4f433cb",
        "outputId": "d326a6c0-c3af-4077-8136-3b0863e286ee"
      },
      "outputs": [
        {
          "output_type": "execute_result",
          "data": {
            "text/plain": [
              "'looking get started data science confused material use video book specific online class etc start book see take book give great place start afterwards enough knowledge make educated choice educational resource use next'"
            ],
            "application/vnd.google.colaboratory.intrinsic+json": {
              "type": "string"
            }
          },
          "metadata": {},
          "execution_count": 20
        }
      ],
      "source": [
        "# Comment after preprocessing\n",
        "preprocess_comment(data['comment'].iloc[2])"
      ],
      "id": "f4f433cb"
    },
    {
      "cell_type": "markdown",
      "metadata": {
        "id": "wsNYobyjEbv3"
      },
      "source": [
        "### Split Data into training and testing data"
      ],
      "id": "wsNYobyjEbv3"
    },
    {
      "cell_type": "code",
      "execution_count": 21,
      "metadata": {
        "id": "0fb850ac"
      },
      "outputs": [],
      "source": [
        "from sklearn.model_selection import train_test_split\n",
        "x_train, x_test, y_train, y_test = train_test_split(data['comment'], data['sentiment'], stratify =  data['sentiment'], test_size= 0.2, random_state=42)"
      ],
      "id": "0fb850ac"
    },
    {
      "cell_type": "code",
      "execution_count": null,
      "metadata": {
        "colab": {
          "base_uri": "https://localhost:8080/"
        },
        "id": "a_faIe2JFFMx",
        "outputId": "aeb46b0f-d509-430c-c263-ba8df93aca1e"
      },
      "outputs": [
        {
          "data": {
            "text/plain": [
              "(15696,)"
            ]
          },
          "execution_count": 20,
          "metadata": {},
          "output_type": "execute_result"
        }
      ],
      "source": [
        "x_train.shape"
      ],
      "id": "a_faIe2JFFMx"
    },
    {
      "cell_type": "code",
      "execution_count": null,
      "metadata": {
        "colab": {
          "base_uri": "https://localhost:8080/"
        },
        "id": "v3wOhVEvFHih",
        "outputId": "71671b6c-9cf9-4d97-a747-27b475defdb4"
      },
      "outputs": [
        {
          "data": {
            "text/plain": [
              "(3925,)"
            ]
          },
          "execution_count": 21,
          "metadata": {},
          "output_type": "execute_result"
        }
      ],
      "source": [
        "x_test.shape"
      ],
      "id": "v3wOhVEvFHih"
    },
    {
      "cell_type": "code",
      "execution_count": null,
      "metadata": {
        "colab": {
          "base_uri": "https://localhost:8080/"
        },
        "id": "MgxPPWUxk8NX",
        "outputId": "1f98e0a2-59fd-45d4-b5d2-03e292e8abf2"
      },
      "outputs": [
        {
          "data": {
            "text/plain": [
              "1    12760\n",
              "0     2936\n",
              "Name: sentiment, dtype: int64"
            ]
          },
          "execution_count": 22,
          "metadata": {},
          "output_type": "execute_result"
        }
      ],
      "source": [
        "y_train.value_counts()"
      ],
      "id": "MgxPPWUxk8NX"
    },
    {
      "cell_type": "markdown",
      "metadata": {
        "id": "834ef259"
      },
      "source": [
        "### Text Vectorization Using TF-IDF"
      ],
      "id": "834ef259"
    },
    {
      "cell_type": "code",
      "execution_count": null,
      "metadata": {
        "colab": {
          "base_uri": "https://localhost:8080/"
        },
        "id": "feefa283",
        "outputId": "dbd6dd0b-83cc-41a9-d25e-03395631a4c1"
      },
      "outputs": [
        {
          "name": "stderr",
          "output_type": "stream",
          "text": [
            "/usr/local/lib/python3.10/dist-packages/sklearn/feature_extraction/text.py:528: UserWarning: The parameter 'token_pattern' will not be used since 'tokenizer' is not None'\n",
            "  warnings.warn(\n"
          ]
        }
      ],
      "source": [
        "# Creating vectors for train and test data using tf-idf with the custom tokenizer that we defined earlier\n",
        "from sklearn.feature_extraction.text import TfidfVectorizer\n",
        "cv = TfidfVectorizer(tokenizer = preprocess_comment, max_features=10000,ngram_range=(1, 3),max_df=0.7)\n",
        "X_train = cv.fit_transform(x_train)\n",
        "X_test = cv.transform(x_test)"
      ],
      "id": "feefa283"
    },
    {
      "cell_type": "code",
      "execution_count": null,
      "metadata": {
        "colab": {
          "base_uri": "https://localhost:8080/"
        },
        "id": "T4s4P8BtmXVZ",
        "outputId": "26344184-3c9b-45dc-dbc5-f7b7d50ec0de"
      },
      "outputs": [
        {
          "data": {
            "text/plain": [
              "1    12760\n",
              "0     2936\n",
              "Name: sentiment, dtype: int64"
            ]
          },
          "execution_count": 56,
          "metadata": {},
          "output_type": "execute_result"
        }
      ],
      "source": [
        "y_train.value_counts()"
      ],
      "id": "T4s4P8BtmXVZ"
    },
    {
      "cell_type": "code",
      "execution_count": null,
      "metadata": {
        "colab": {
          "base_uri": "https://localhost:8080/"
        },
        "id": "Js0FSfHJH4Wt",
        "outputId": "0b31f85b-fa8f-41b6-ffc9-b78e4f380a98"
      },
      "outputs": [
        {
          "data": {
            "text/plain": [
              "1    3191\n",
              "0     734\n",
              "Name: sentiment, dtype: int64"
            ]
          },
          "execution_count": 51,
          "metadata": {},
          "output_type": "execute_result"
        }
      ],
      "source": [
        "y_test.value_counts()"
      ],
      "id": "Js0FSfHJH4Wt"
    },
    {
      "cell_type": "code",
      "execution_count": null,
      "metadata": {
        "colab": {
          "base_uri": "https://localhost:8080/"
        },
        "id": "b9cjqa8zw20l",
        "outputId": "26464162-50bc-4ce5-e592-be5591229a40"
      },
      "outputs": [
        {
          "data": {
            "text/plain": [
              "(15696, 8784)"
            ]
          },
          "execution_count": 55,
          "metadata": {},
          "output_type": "execute_result"
        }
      ],
      "source": [
        "X_train.shape"
      ],
      "id": "b9cjqa8zw20l"
    },
    {
      "cell_type": "code",
      "execution_count": null,
      "metadata": {
        "colab": {
          "base_uri": "https://localhost:8080/"
        },
        "id": "_XWcbuf7w6y9",
        "outputId": "0ee393ff-5ddf-40d7-f5e0-7e9ab1bc0c37"
      },
      "outputs": [
        {
          "data": {
            "text/plain": [
              "(3925, 8784)"
            ]
          },
          "execution_count": 53,
          "metadata": {},
          "output_type": "execute_result"
        }
      ],
      "source": [
        "X_test.shape"
      ],
      "id": "_XWcbuf7w6y9"
    },
    {
      "cell_type": "markdown",
      "metadata": {
        "id": "h8RasoEN4_hR"
      },
      "source": [
        "### Using SMOTE to handle class imbalance in training data"
      ],
      "id": "h8RasoEN4_hR"
    },
    {
      "cell_type": "code",
      "execution_count": 25,
      "metadata": {
        "id": "iB_RitdfmcSl"
      },
      "outputs": [],
      "source": [
        "# Using SMOTE to increase the number of samples in minority class.\n",
        "# Sampling_strategy = 0.75 corresponds to the desired ratio of the number of samples in the minority class \n",
        "# over the number of samples in the majority class after resampling\n",
        "\n",
        "over = SMOTE(sampling_strategy=0.5)\n",
        "#under = RandomUnderSampler(sampling_strategy=0.6)\n",
        "#steps = [('over', over), ('under', under)]\n",
        "#pipeline = Pipeline(steps=steps)\n",
        "\n",
        "# transform the dataset\n",
        "X_train, y_train = over.fit_resample(X_train, y_train)"
      ],
      "id": "iB_RitdfmcSl"
    },
    {
      "cell_type": "code",
      "execution_count": 26,
      "metadata": {
        "colab": {
          "base_uri": "https://localhost:8080/"
        },
        "id": "SFOw7HL9p6A5",
        "outputId": "e2163bc3-c04b-46e7-81e9-278fa09f9b3f"
      },
      "outputs": [
        {
          "output_type": "execute_result",
          "data": {
            "text/plain": [
              "(19140, 8784)"
            ]
          },
          "metadata": {},
          "execution_count": 26
        }
      ],
      "source": [
        "X_train.shape"
      ],
      "id": "SFOw7HL9p6A5"
    },
    {
      "cell_type": "code",
      "execution_count": null,
      "metadata": {
        "id": "NlzUStPnqtle"
      },
      "outputs": [],
      "source": [],
      "id": "NlzUStPnqtle"
    },
    {
      "cell_type": "code",
      "execution_count": 27,
      "metadata": {
        "colab": {
          "base_uri": "https://localhost:8080/"
        },
        "id": "J_kl3I98p-6u",
        "outputId": "3fd2dc36-e648-4616-b6ba-87d642278d50"
      },
      "outputs": [
        {
          "output_type": "execute_result",
          "data": {
            "text/plain": [
              "1    12760\n",
              "0     6380\n",
              "Name: sentiment, dtype: int64"
            ]
          },
          "metadata": {},
          "execution_count": 27
        }
      ],
      "source": [
        "y_train.value_counts()"
      ],
      "id": "J_kl3I98p-6u"
    },
    {
      "cell_type": "code",
      "execution_count": 31,
      "metadata": {
        "id": "xxlq1G20quLo"
      },
      "outputs": [],
      "source": [
        "under = RandomUnderSampler(sampling_strategy=0.6)\n",
        "X_train, y_train = under.fit_resample(X_train, y_train)"
      ],
      "id": "xxlq1G20quLo"
    },
    {
      "cell_type": "code",
      "execution_count": 32,
      "metadata": {
        "colab": {
          "base_uri": "https://localhost:8080/"
        },
        "id": "X4GI5RIlqys_",
        "outputId": "66473f4d-6906-4a79-961d-1065830abec1"
      },
      "outputs": [
        {
          "output_type": "execute_result",
          "data": {
            "text/plain": [
              "1    10633\n",
              "0     6380\n",
              "Name: sentiment, dtype: int64"
            ]
          },
          "metadata": {},
          "execution_count": 32
        }
      ],
      "source": [
        "y_train.value_counts()"
      ],
      "id": "X4GI5RIlqys_"
    },
    {
      "cell_type": "markdown",
      "metadata": {
        "id": "uc5-eLZzMZ9j"
      },
      "source": [
        "### Defining some utility functions"
      ],
      "id": "uc5-eLZzMZ9j"
    },
    {
      "cell_type": "code",
      "execution_count": 33,
      "metadata": {
        "id": "uUkg2qP69CfZ"
      },
      "outputs": [],
      "source": [
        "def evaluate_models(X_train, y_train,X_test,y_test,model,param):\n",
        "  gs = GridSearchCV(model,param,cv=3)\n",
        "  gs.fit(X_train.toarray(),y_train)\n",
        "\n",
        "  model.set_params(**gs.best_params_)\n",
        "  model.fit(X_train.toarray(),y_train)\n",
        "  y_train_pred = model.predict(X_train.toarray())\n",
        "  y_train_pred_prob = model.predict_proba(X_train.toarray())\n",
        "  y_test_pred = model.predict(X_test.toarray())\n",
        "  y_test_pred_proba = model.predict_proba(X_test.toarray())\n",
        "\n",
        "  return model,y_train_pred, y_train_pred_prob, y_test_pred, y_test_pred_proba"
      ],
      "id": "uUkg2qP69CfZ"
    },
    {
      "cell_type": "code",
      "execution_count": 107,
      "metadata": {
        "id": "1W0LsXSdGIEL"
      },
      "outputs": [],
      "source": [
        "f1_score_tfidf_train = {}\n",
        "f1_score_tfidf_test = {}\n",
        "\n",
        "tpr_tfidf_test = {}\n",
        "fpr_tfidf_test = {}\n",
        "auc_tfidf = {}"
      ],
      "id": "1W0LsXSdGIEL"
    },
    {
      "cell_type": "code",
      "execution_count": 51,
      "metadata": {
        "id": "PEB8YRXC_BzJ"
      },
      "outputs": [],
      "source": [
        "from sklearn import metrics\n",
        "def plot_confusion_matrix(y_actual, y_pred):\n",
        "  confusion_matrix = metrics.confusion_matrix(y_actual, y_pred)\n",
        "  cm_display = metrics.ConfusionMatrixDisplay(confusion_matrix = confusion_matrix, display_labels = ['negative', 'positive'])\n",
        "  cm_display.plot()\n",
        "  plt.show()\n",
        "\n"
      ],
      "id": "PEB8YRXC_BzJ"
    },
    {
      "cell_type": "code",
      "execution_count": 108,
      "metadata": {
        "id": "dPGjUy27Txls"
      },
      "outputs": [],
      "source": [
        "from mlxtend.plotting import plot_confusion_matrix\n",
        "def model_perf_plots(y_true,y_pred, fpr,tpr, auc):\n",
        "  f, axes = plt.subplots(1, 2, figsize=(10, 5))\n",
        "  #plt.subplot(1,2,1)\n",
        "  axes[0].set_title('Confusion Matrix')\n",
        "  confusion_matrix = metrics.confusion_matrix(y_true,y_pred)\n",
        "  cm_display = metrics.ConfusionMatrixDisplay(confusion_matrix = confusion_matrix, display_labels = ['negative', 'positive'])\n",
        "  cm_display.plot(ax=axes[0])\n",
        "  cm_display.ax_.set_xlabel('Predictions', fontsize=9)\n",
        "  cm_display.ax_.set_ylabel('Actuals', fontsize=9)\n",
        "  #plt.title('Confusion Matrix', fontsize=18)\n",
        "  \n",
        "\n",
        "  #plt.subplot(1,2,2)\n",
        "  axes[1].set_title('ROC Curve')\n",
        "  #create ROC curve\n",
        "  axes[1].plot(fpr,tpr,label=\"AUC=\"+str(auc))\n",
        "  axes[1].set_ylabel('True Positive Rate')\n",
        "  axes[1].set_xlabel('False Positive Rate')\n",
        "  axes[1].legend(loc=4)\n",
        "\n",
        "  plt.subplots_adjust(wspace=0.50, hspace=0.1)\n",
        "  plt.show()\n",
        "\n",
        "\n",
        "\n"
      ],
      "id": "dPGjUy27Txls"
    },
    {
      "cell_type": "markdown",
      "metadata": {
        "id": "G7MLNFwSxip_"
      },
      "source": [
        "### Guassian Naive Bayes"
      ],
      "id": "G7MLNFwSxip_"
    },
    {
      "cell_type": "code",
      "execution_count": 109,
      "metadata": {
        "colab": {
          "base_uri": "https://localhost:8080/",
          "height": 523
        },
        "id": "uH8muaVX-exQ",
        "outputId": "9a8f53b6-76aa-45f5-a16f-249941af0b8f"
      },
      "outputs": [
        {
          "output_type": "stream",
          "name": "stdout",
          "text": [
            "F1 score of model GaussianNB(var_smoothing=0.01) on training data is 0.779787345622224\n",
            "F1 score of model GaussianNB(var_smoothing=0.01) on test data is 0.7022184599973449\n"
          ]
        },
        {
          "output_type": "display_data",
          "data": {
            "text/plain": [
              "<Figure size 1000x500 with 3 Axes>"
            ],
            "image/png": "[encoded data removed]"
          },
          "metadata": {}
        }
      ],
      "source": [
        "model  = GaussianNB()\n",
        "param = { 'var_smoothing': [0.001,0.01,0.05,0.1,0.5,1]}\n",
        "\n",
        "model , y_train_pred,y_train_pred_proba, y_test_pred, y_test_pred_proba = evaluate_models(X_train, y_train,X_test,y_test,model,param)\n",
        "fpr,tpr,_ = roc_curve(y_test, y_test_pred_proba[:,1])\n",
        "auc = roc_auc_score(y_test, y_test_pred_proba[:,1])\n",
        "\n",
        "f1_score_tfidf_train[model] =  f1_score(y_train, y_train_pred, average='weighted')\n",
        "print(\"F1 score of model {} on training data is {}\".format(model, f1_score_tfidf_train[model]))\n",
        "\n",
        "f1_score_tfidf_test[model] =  f1_score(y_test, y_test_pred, average='weighted')\n",
        "print(\"F1 score of model {} on test data is {}\".format(model, f1_score_tfidf_test[model]))\n",
        "\n",
        "tpr_tfidf_test[model] = tpr\n",
        "fpr_tfidf_test[model] = fpr\n",
        "auc_tfidf[model] = auc\n",
        "\n",
        "\n",
        "model_perf_plots(y_test,y_test_pred, fpr,tpr, auc)\n",
        "#plot_confusion_matrix(y_test, y_test_pred)\n",
        "#plt.plot(fpr, tpr)\n",
        "#plt.show()\n"
      ],
      "id": "uH8muaVX-exQ"
    },
    {
      "cell_type": "markdown",
      "metadata": {
        "id": "B1AqE-2Bauci"
      },
      "source": [
        "### Decision Tree"
      ],
      "id": "B1AqE-2Bauci"
    },
    {
      "cell_type": "code",
      "execution_count": 111,
      "metadata": {
        "colab": {
          "base_uri": "https://localhost:8080/",
          "height": 559
        },
        "id": "IB-gwoZj7XHh",
        "outputId": "bd9e3d8e-ebc9-44af-de39-3530744bac19"
      },
      "outputs": [
        {
          "output_type": "stream",
          "name": "stdout",
          "text": [
            "F1 score of model DecisionTreeClassifier(class_weight='balanced', max_depth=75,\n",
            "                       min_samples_leaf=5) on training data is 0.9329701479674387\n",
            "F1 score of model DecisionTreeClassifier(class_weight='balanced', max_depth=75,\n",
            "                       min_samples_leaf=5) on test data is 0.7261929547096775\n"
          ]
        },
        {
          "output_type": "display_data",
          "data": {
            "text/plain": [
              "<Figure size 1000x500 with 3 Axes>"
            ],
            "image/png": "[encoded data removed]"
          },
          "metadata": {}
        }
      ],
      "source": [
        "model  = DecisionTreeClassifier(class_weight = \"balanced\")\n",
        "param = { 'max_depth' : [10,20,50,75],\n",
        "           'min_samples_leaf' : [5,10,15,20]}\n",
        "\n",
        "model , y_train_pred,y_train_pred_proba, y_test_pred, y_test_pred_proba = evaluate_models(X_train, y_train,X_test,y_test,model,param)\n",
        "fpr,tpr,_ = roc_curve(y_test, y_test_pred_proba[:,1])\n",
        "auc = roc_auc_score(y_test, y_test_pred_proba[:,1])\n",
        "\n",
        "f1_score_tfidf_train[model] =  f1_score(y_train, y_train_pred, average='weighted')\n",
        "print(\"F1 score of model {} on training data is {}\".format(model, f1_score_tfidf_train[model]))\n",
        "\n",
        "f1_score_tfidf_test[model] =  f1_score(y_test, y_test_pred, average='weighted')\n",
        "print(\"F1 score of model {} on test data is {}\".format(model, f1_score_tfidf_test[model]))\n",
        "\n",
        "\n",
        "tpr_tfidf_test[model] = tpr\n",
        "fpr_tfidf_test[model] = fpr\n",
        "auc_tfidf[model] = auc\n",
        "\n",
        "\n",
        "model_perf_plots(y_test,y_test_pred, fpr,tpr, auc)"
      ],
      "id": "IB-gwoZj7XHh"
    },
    {
      "cell_type": "markdown",
      "metadata": {
        "id": "k7v1yqhrySMd"
      },
      "source": [
        "### Random Forest Classifier"
      ],
      "id": "k7v1yqhrySMd"
    },
    {
      "cell_type": "code",
      "execution_count": 115,
      "metadata": {
        "colab": {
          "base_uri": "https://localhost:8080/",
          "height": 559
        },
        "id": "NOMhW_1AyQQp",
        "outputId": "3a21ae35-6816-4a6a-9fff-87ff93145352"
      },
      "outputs": [
        {
          "output_type": "stream",
          "name": "stdout",
          "text": [
            "F1 score of model RandomForestClassifier(class_weight='balanced_subsample', max_depth=75,\n",
            "                       max_samples=0.5) on training data is 0.9935235235059063\n",
            "F1 score of model RandomForestClassifier(class_weight='balanced_subsample', max_depth=75,\n",
            "                       max_samples=0.5) on test data is 0.7848712494934443\n"
          ]
        },
        {
          "output_type": "display_data",
          "data": {
            "text/plain": [
              "<Figure size 1000x500 with 3 Axes>"
            ],
            "image/png": "[encoded data removed]"
          },
          "metadata": {}
        }
      ],
      "source": [
        "model  = RandomForestClassifier(class_weight='balanced_subsample')\n",
        "param = { 'n_estimators': [30,50,75,100], 'max_depth' :[ 10,20,25,75], 'max_samples' : [0.2,0.3,0.5]}\n",
        "\n",
        "model , y_train_pred,y_train_pred_proba, y_test_pred, y_test_pred_proba = evaluate_models(X_train, y_train,X_test,y_test,model,param)\n",
        "fpr,tpr,_ = roc_curve(y_test, y_test_pred_proba[:,1])\n",
        "auc = roc_auc_score(y_test, y_test_pred_proba[:,1])\n",
        "\n",
        "f1_score_tfidf_train[model] =  f1_score(y_train, y_train_pred, average='weighted')\n",
        "print(\"F1 score of model {} on training data is {}\".format(model, f1_score_tfidf_train[model]))\n",
        "\n",
        "f1_score_tfidf_test[model] =  f1_score(y_test, y_test_pred, average='weighted')\n",
        "print(\"F1 score of model {} on test data is {}\".format(model, f1_score_tfidf_test[model]))\n",
        "\n",
        "\n",
        "tpr_tfidf_test[model] = tpr\n",
        "fpr_tfidf_test[model] = fpr\n",
        "auc_tfidf[model] = auc\n",
        "\n",
        "\n",
        "model_perf_plots(y_test,y_test_pred, fpr,tpr, auc)"
      ],
      "id": "NOMhW_1AyQQp"
    },
    {
      "cell_type": "code",
      "source": [],
      "metadata": {
        "id": "sgFC159L4jO-"
      },
      "id": "sgFC159L4jO-",
      "execution_count": null,
      "outputs": []
    },
    {
      "cell_type": "code",
      "source": [
        "import xgboost as xgb\n",
        "model  = xgb.XGBClassifier()\n",
        "param = { 'n_estimators': [100], 'learning_rate':[0.001]}\n",
        "\n",
        "model , y_train_pred,y_train_pred_proba, y_test_pred, y_test_pred_proba = evaluate_models(X_train, y_train,X_test,y_test,model,param)\n",
        "fpr,tpr,_ = roc_curve(y_test, y_test_pred_proba[:,1])\n",
        "auc = roc_auc_score(y_test, y_test_pred_proba[:,1])\n",
        "\n",
        "f1_score_tfidf_train[model] =  f1_score(y_train, y_train_pred, average='weighted')\n",
        "print(\"F1 score of model {} on training data is {}\".format(model, f1_score_tfidf_train[model]))\n",
        "\n",
        "f1_score_tfidf_test[model] =  f1_score(y_test, y_test_pred, average='weighted')\n",
        "print(\"F1 score of model {} on test data is {}\".format(model, f1_score_tfidf_test[model]))\n",
        "\n",
        "\n",
        "tpr_tfidf_test[model] = tpr\n",
        "fpr_tfidf_test[model] = fpr\n",
        "auc_tfidf[model] = auc\n",
        "\n",
        "\n",
        "model_perf_plots(y_test,y_test_pred, fpr,tpr, auc)\n"
      ],
      "metadata": {
        "colab": {
          "base_uri": "https://localhost:8080/",
          "height": 885
        },
        "id": "ddKXlCRwn4iB",
        "outputId": "c67b74df-28d6-4a9e-de70-efb720b8885e"
      },
      "id": "ddKXlCRwn4iB",
      "execution_count": 117,
      "outputs": [
        {
          "output_type": "stream",
          "name": "stdout",
          "text": [
            "F1 score of model XGBClassifier(base_score=None, booster=None, callbacks=None,\n",
            "              colsample_bylevel=None, colsample_bynode=None,\n",
            "              colsample_bytree=None, early_stopping_rounds=None,\n",
            "              enable_categorical=False, eval_metric=None, feature_types=None,\n",
            "              gamma=None, gpu_id=None, grow_policy=None, importance_type=None,\n",
            "              interaction_constraints=None, learning_rate=0.001, max_bin=None,\n",
            "              max_cat_threshold=None, max_cat_to_onehot=None,\n",
            "              max_delta_step=None, max_depth=None, max_leaves=None,\n",
            "              min_child_weight=None, missing=nan, monotone_constraints=None,\n",
            "              n_estimators=100, n_jobs=None, num_parallel_tree=None,\n",
            "              predictor=None, random_state=None, ...) on training data is 0.7385844770861117\n",
            "F1 score of model XGBClassifier(base_score=None, booster=None, callbacks=None,\n",
            "              colsample_bylevel=None, colsample_bynode=None,\n",
            "              colsample_bytree=None, early_stopping_rounds=None,\n",
            "              enable_categorical=False, eval_metric=None, feature_types=None,\n",
            "              gamma=None, gpu_id=None, grow_policy=None, importance_type=None,\n",
            "              interaction_constraints=None, learning_rate=0.001, max_bin=None,\n",
            "              max_cat_threshold=None, max_cat_to_onehot=None,\n",
            "              max_delta_step=None, max_depth=None, max_leaves=None,\n",
            "              min_child_weight=None, missing=nan, monotone_constraints=None,\n",
            "              n_estimators=100, n_jobs=None, num_parallel_tree=None,\n",
            "              predictor=None, random_state=None, ...) on test data is 0.7771480771264312\n"
          ]
        },
        {
          "output_type": "display_data",
          "data": {
            "text/plain": [
              "<Figure size 1000x500 with 3 Axes>"
            ],
            "image/png": "[encoded data removed]"
          },
          "metadata": {}
        }
      ]
    },
    {
      "cell_type": "markdown",
      "source": [
        "### Text Vectorization using Word2Vec"
      ],
      "metadata": {
        "id": "nq9XIvpWoQeB"
      },
      "id": "nq9XIvpWoQeB"
    },
    {
      "cell_type": "code",
      "source": [],
      "metadata": {
        "id": "A5ekyY2SoQDm"
      },
      "id": "A5ekyY2SoQDm",
      "execution_count": null,
      "outputs": []
    }
  ],
  "metadata": {
    "colab": {
      "provenance": []
    },
    "kernelspec": {
      "display_name": "Python 3 (ipykernel)",
      "language": "python",
      "name": "python3"
    },
    "language_info": {
      "codemirror_mode": {
        "name": "ipython",
        "version": 3
      },
      "file_extension": ".py",
      "mimetype": "text/x-python",
      "name": "python",
      "nbconvert_exporter": "python",
      "pygments_lexer": "ipython3",
      "version": "3.9.12"
    },
    "gpuClass": "standard"
  },
  "nbformat": 4,
  "nbformat_minor": 5
}